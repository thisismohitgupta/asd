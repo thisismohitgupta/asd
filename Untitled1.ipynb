{
 "cells": [
  {
   "cell_type": "code",
   "execution_count": 1,
   "metadata": {
    "collapsed": false
   },
   "outputs": [
    {
     "name": "stdout",
     "output_type": "stream",
     "text": [
      "X_val:  (1000, 3, 32, 32)\n",
      "X_train:  (49000, 3, 32, 32)\n",
      "X_test:  (1000, 3, 32, 32)\n",
      "y_val:  (1000,)\n",
      "y_train:  (49000,)\n",
      "y_test:  (1000,)\n"
     ]
    }
   ],
   "source": [
    "import numpy as np\n",
    "\n",
    "from Solver import Solver\n",
    "from data_utils.data import get_CIFAR10_data\n",
    "\n",
    "data = get_CIFAR10_data()\n",
    "for k, v in data.iteritems():\n",
    "  print '%s: ' % k, v.shape\n",
    "from classifiers.cnn import ThreeLayerConvNet\n",
    "num_train = 100\n",
    "small_data = {\n",
    "  'X_train': data['X_train'][:num_train],\n",
    "  'y_train': data['y_train'][:num_train],\n",
    "  'X_val': data['X_val'],\n",
    "  'y_val': data['y_val'],\n",
    "}"
   ]
  },
  {
   "cell_type": "code",
   "execution_count": 2,
   "metadata": {
    "collapsed": false
   },
   "outputs": [],
   "source": [
    "%load_ext autoreload\n",
    "%autoreload 2\n"
   ]
  },
  {
   "cell_type": "code",
   "execution_count": 4,
   "metadata": {
    "collapsed": false
   },
   "outputs": [
    {
     "name": "stdout",
     "output_type": "stream",
     "text": [
      "[[[ -66.36  -79.36  -73.59 ...,   25.55   21.08   19.87]\n",
      "  [-105.86 -120.46 -104.49 ...,  -12.18  -13.57   -6.55]\n",
      "  [ -95.27 -102.63  -71.36 ...,  -19.03  -14.55  -19.47]\n",
      "  ..., \n",
      "  [  81.29   77.31   72.41 ...,   39.58  -63.22  -67.18]\n",
      "  [  50.82   47.4    60.64 ...,   61.59  -26.16  -40.69]\n",
      "  [  46.99   39.12   51.28 ...,   91.48   25.6    -4.22]]\n",
      "\n",
      " [[ -67.6   -80.66  -80.34 ...,   -5.57  -11.3    -9.01]\n",
      "  [-105.74 -123.83 -118.01 ...,  -51.13  -54.24  -46.36]\n",
      "  [-100.56 -115.27  -96.78 ...,  -55.28  -53.56  -59.19]\n",
      "  ..., \n",
      "  [  44.01   30.12   37.2  ...,   14.65  -86.53  -83.93]\n",
      "  [  11.24   -1.45   19.9  ...,   28.63  -58.51  -68.08]\n",
      "  [  16.53    2.51   17.09 ...,   63.36   -3.75  -31.74]]\n",
      "\n",
      " [[ -57.8   -74.08  -78.53 ...,  -19.04  -24.    -21.01]\n",
      "  [ -96.87 -116.57 -119.83 ...,  -72.07  -76.02  -65.92]\n",
      "  [ -93.78 -114.25 -108.81 ...,  -76.55  -75.27  -78.45]\n",
      "  ..., \n",
      "  [ -12.72  -71.55  -80.01 ...,  -30.51  -92.33  -79.94]\n",
      "  [ -15.54  -66.32  -77.27 ...,   -9.08  -69.19  -69.49]\n",
      "  [   4.39  -16.81  -22.41 ...,   35.47  -21.66  -35.13]]]\n"
     ]
    }
   ],
   "source": [
    "#data['X_train'][:,0,:,:] -= np.mean(data['X_train'][:,0,:,:],axis=0)\n",
    "#small_data['X_train'][:,0,:,:] -= np.mean(small_data['X_train'][:,0,:,:])\n",
    "#small_data['X_train'][:,1,:,:] -= np.mean(small_data['X_train'][:,1,:,:])\n",
    "#small_data['X_train'][:,2,:,:] -= np.mean(small_data['X_train'][:,2,:,:])\n",
    "\n",
    "#print data['X_train'][2,0,:,:]\n",
    "small_data['X_train'] -= np.mean(small_data['X_train'],axis=0)\n",
    "print small_data['X_train'][0,:]"
   ]
  },
  {
   "cell_type": "code",
   "execution_count": null,
   "metadata": {
    "collapsed": false
   },
   "outputs": [],
   "source": [
    "%load_ext autoreload\n",
    "\n",
    "%autoreload 2\n",
    "from classifiers import cnn_huge as cnn\n",
    "\n",
    "\n",
    "\n",
    "\n",
    "res = cnn.ResNet(weight_scale=2.63665090e-04,reg=0.0)\n",
    "solver = Solver(res, small_data,\n",
    "                    update_rule='adam',\n",
    "                    optim_config={\n",
    "                      'learning_rate': 1e-4,\n",
    "                      'stride': 1\n",
    "                    },\n",
    "                    verbose=True,\n",
    "                    num_epochs=5, batch_size=50,\n",
    "                    print_every=1)\n",
    "\n",
    "solver.train()"
   ]
  },
  {
   "cell_type": "code",
   "execution_count": null,
   "metadata": {
    "collapsed": true
   },
   "outputs": [],
   "source": [
    "import matplotlib.pyplot as plt\n",
    "\n",
    "plt.subplot(2, 1, 1)\n",
    "plt.plot(solver.loss_history, 'o')\n",
    "plt.xlabel('iteration')\n",
    "plt.ylabel('loss')\n",
    "\n",
    "plt.subplot(2, 1, 2)\n",
    "plt.plot(solver.train_acc_history, '-o')\n",
    "plt.plot(solver.val_acc_history, '-o')\n",
    "plt.legend(['train', 'val'], loc='upper left')\n",
    "plt.xlabel('epoch')\n",
    "plt.ylabel('accuracy')\n",
    "plt.show()"
   ]
  }
 ],
 "metadata": {
  "kernelspec": {
   "display_name": "Python 2",
   "language": "python",
   "name": "python2"
  },
  "language_info": {
   "codemirror_mode": {
    "name": "ipython",
    "version": 2
   },
   "file_extension": ".py",
   "mimetype": "text/x-python",
   "name": "python",
   "nbconvert_exporter": "python",
   "pygments_lexer": "ipython2",
   "version": "2.7.12"
  }
 },
 "nbformat": 4,
 "nbformat_minor": 0
}
